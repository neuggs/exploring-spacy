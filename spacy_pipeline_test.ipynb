{
 "cells": [
  {
   "cell_type": "code",
   "execution_count": 1,
   "metadata": {},
   "outputs": [],
   "source": [
    "import spacy\n",
    "import pandas as pd\n",
    "from spacy.lang.en import English\n",
    "from spacy.pipeline import EntityRuler"
   ]
  },
  {
   "cell_type": "code",
   "execution_count": 4,
   "metadata": {},
   "outputs": [],
   "source": [
    "nlp = spacy.load('en_core_web_sm')\n",
    "df = pd.read_csv('data/test_data.csv')"
   ]
  },
  {
   "cell_type": "code",
   "execution_count": 5,
   "metadata": {},
   "outputs": [
    {
     "name": "stdout",
     "output_type": "stream",
     "text": [
      "[('1985', 'DATE'), ('Delorean', 'PERSON'), ('1DAPFB7CK67LY38392', 'MONEY'), ('2000', 'CARDINAL'), ('Nissan Sentra', 'PRODUCT'), ('2,500', 'MONEY'), ('1,000', 'MONEY'), ('1,000', 'MONEY'), ('Request', 'PERSON'), ('12/27/2019 10:00 AM', 'TIME'), ('Frank Neugebauer', 'PERSON'), ('10124', 'DATE'), ('Carroll Realty & Insurance Company, Inc.', 'ORG'), ('Phone Number', 'ORG'), ('770', 'CARDINAL')]\n",
      "[('23', 'CARDINAL'), ('40', 'CARDINAL'), ('Saville Row', 'GPE'), ('Cincinnati', 'GPE'), ('45246', 'CARDINAL'), ('23334', 'CARDINAL'), ('Cincinnati', 'GPE'), ('OH 45246', 'DATE'), ('12/21/2019 2:42 PM', 'DATE'), ('Frank Neugebauer', 'PERSON'), ('10124', 'DATE'), ('Carroll Realty & Insurance Company, Inc.', 'ORG'), ('Phone Number', 'ORG'), ('770', 'CARDINAL')]\n"
     ]
    }
   ],
   "source": [
    "for doc in nlp.pipe(df['Body'], disable=[\"tagger\", \"parser\"]):\n",
    "    print([(ent.text, ent.label_) for ent in doc.ents])"
   ]
  },
  {
   "cell_type": "code",
   "execution_count": null,
   "metadata": {},
   "outputs": [],
   "source": [
    "nlp = English()\n",
    "ruler = EntityRuler(nlp)\n",
    "patterns = [{'label': 'VIN', 'pattern': [{'TEXT': {'REGEX': '[A-HJ-NPR-Z0-9]{17}'}}]}]\n",
    "ruler.add_patterns(patterns)\n",
    "nlp.add_pipe(ruler)\n",
    "\n"
   ]
  }
 ],
 "metadata": {
  "kernelspec": {
   "display_name": "Python 3",
   "language": "python",
   "name": "python3"
  },
  "language_info": {
   "codemirror_mode": {
    "name": "ipython",
    "version": 3
   },
   "file_extension": ".py",
   "mimetype": "text/x-python",
   "name": "python",
   "nbconvert_exporter": "python",
   "pygments_lexer": "ipython3",
   "version": "3.7.3"
  }
 },
 "nbformat": 4,
 "nbformat_minor": 2
}
